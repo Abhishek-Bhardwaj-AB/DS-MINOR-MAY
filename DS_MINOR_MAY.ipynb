{
  "nbformat": 4,
  "nbformat_minor": 0,
  "metadata": {
    "colab": {
      "name": "DS-MINOR-MAY.ipynb",
      "provenance": [],
      "collapsed_sections": [],
      "mount_file_id": "1TIsIQLhcGZak844BTNzTdBtHcvk2Dyc_",
      "authorship_tag": "ABX9TyOdxYgpo0PCQf/4qO8Kojmt",
      "include_colab_link": true
    },
    "kernelspec": {
      "display_name": "Python 3",
      "name": "python3"
    },
    "language_info": {
      "name": "python"
    }
  },
  "cells": [
    {
      "cell_type": "markdown",
      "metadata": {
        "id": "view-in-github",
        "colab_type": "text"
      },
      "source": [
        "<a href=\"https://colab.research.google.com/github/Abhishekadypu/DS-MINOR-MAY/blob/main/DS_MINOR_MAY.ipynb\" target=\"_parent\"><img src=\"https://colab.research.google.com/assets/colab-badge.svg\" alt=\"Open In Colab\"/></a>"
      ]
    },
    {
      "cell_type": "code",
      "metadata": {
        "colab": {
          "base_uri": "https://localhost:8080/"
        },
        "id": "bfkWDtxmn9KT",
        "outputId": "939b43c2-6268-4226-96c4-c07866c896a1"
      },
      "source": [
        "!pip install ipython-autotime\n",
        "%load_ext autotime"
      ],
      "execution_count": 1,
      "outputs": [
        {
          "output_type": "stream",
          "text": [
            "Requirement already satisfied: ipython-autotime in /usr/local/lib/python3.7/dist-packages (0.3.1)\n",
            "Requirement already satisfied: ipython in /usr/local/lib/python3.7/dist-packages (from ipython-autotime) (5.5.0)\n",
            "Requirement already satisfied: traitlets>=4.2 in /usr/local/lib/python3.7/dist-packages (from ipython->ipython-autotime) (5.0.5)\n",
            "Requirement already satisfied: pickleshare in /usr/local/lib/python3.7/dist-packages (from ipython->ipython-autotime) (0.7.5)\n",
            "Requirement already satisfied: simplegeneric>0.8 in /usr/local/lib/python3.7/dist-packages (from ipython->ipython-autotime) (0.8.1)\n",
            "Requirement already satisfied: decorator in /usr/local/lib/python3.7/dist-packages (from ipython->ipython-autotime) (4.4.2)\n",
            "Requirement already satisfied: setuptools>=18.5 in /usr/local/lib/python3.7/dist-packages (from ipython->ipython-autotime) (57.0.0)\n",
            "Requirement already satisfied: pexpect; sys_platform != \"win32\" in /usr/local/lib/python3.7/dist-packages (from ipython->ipython-autotime) (4.8.0)\n",
            "Requirement already satisfied: prompt-toolkit<2.0.0,>=1.0.4 in /usr/local/lib/python3.7/dist-packages (from ipython->ipython-autotime) (1.0.18)\n",
            "Requirement already satisfied: pygments in /usr/local/lib/python3.7/dist-packages (from ipython->ipython-autotime) (2.6.1)\n",
            "Requirement already satisfied: ipython-genutils in /usr/local/lib/python3.7/dist-packages (from traitlets>=4.2->ipython->ipython-autotime) (0.2.0)\n",
            "Requirement already satisfied: ptyprocess>=0.5 in /usr/local/lib/python3.7/dist-packages (from pexpect; sys_platform != \"win32\"->ipython->ipython-autotime) (0.7.0)\n",
            "Requirement already satisfied: six>=1.9.0 in /usr/local/lib/python3.7/dist-packages (from prompt-toolkit<2.0.0,>=1.0.4->ipython->ipython-autotime) (1.15.0)\n",
            "Requirement already satisfied: wcwidth in /usr/local/lib/python3.7/dist-packages (from prompt-toolkit<2.0.0,>=1.0.4->ipython->ipython-autotime) (0.2.5)\n",
            "time: 4.18 ms (started: 2021-06-17 15:25:30 +00:00)\n"
          ],
          "name": "stdout"
        }
      ]
    },
    {
      "cell_type": "code",
      "metadata": {
        "colab": {
          "base_uri": "https://localhost:8080/"
        },
        "id": "8z_8wSTGiQ_2",
        "outputId": "43850e0d-a15c-40ab-d032-0ff8c2a3ac1a"
      },
      "source": [
        "!pip install bing-image-downloader"
      ],
      "execution_count": 2,
      "outputs": [
        {
          "output_type": "stream",
          "text": [
            "Requirement already satisfied: bing-image-downloader in /usr/local/lib/python3.7/dist-packages (1.1.0)\n",
            "time: 2.83 s (started: 2021-06-17 15:25:30 +00:00)\n"
          ],
          "name": "stdout"
        }
      ]
    },
    {
      "cell_type": "code",
      "metadata": {
        "colab": {
          "base_uri": "https://localhost:8080/"
        },
        "id": "FMkunMYFNZAI",
        "outputId": "4ad833a6-ae13-4a0d-c1ec-d89ec8064b4d"
      },
      "source": [
        "!mkdir images"
      ],
      "execution_count": 3,
      "outputs": [
        {
          "output_type": "stream",
          "text": [
            "time: 125 ms (started: 2021-06-17 15:25:33 +00:00)\n"
          ],
          "name": "stdout"
        }
      ]
    },
    {
      "cell_type": "code",
      "metadata": {
        "colab": {
          "base_uri": "https://localhost:8080/"
        },
        "id": "8PBPBIiqfSCU",
        "outputId": "e348bf9e-81a4-4a7d-aa19-b49f06cbeed0"
      },
      "source": [
        "from bing_image_downloader import downloader\n",
        "downloader.download(\"cricket bat\",limit=30,output_dir='image',adult_filter_off=True)"
      ],
      "execution_count": 4,
      "outputs": [
        {
          "output_type": "stream",
          "text": [
            "[%] Downloading Images to /content/image/cricket bat\n",
            "\n",
            "\n",
            "[!!]Indexing page: 1\n",
            "\n",
            "[%] Indexed 30 Images on Page 1.\n",
            "\n",
            "===============================================\n",
            "\n",
            "[%] Downloading Image #1 from https://n3.sdlcdn.com/imgs/g/r/s/spartan-blue-popular-willow-cricket-SDL568742857-1-ccf26.jpeg\n",
            "[%] File Downloaded !\n",
            "\n",
            "[%] Downloading Image #2 from https://n2.sdlcdn.com/imgs/h/8/3/Strauss-English-Willow-Cricket-Bat-SDL263160843-2-e975d.jpeg\n",
            "[%] File Downloaded !\n",
            "\n",
            "[%] Downloading Image #3 from https://n2.sdlcdn.com/imgs/i/x/b/Popular-willow-cricket-bat-Market-SDL943524258-1-2348e.jpeg\n",
            "[%] File Downloaded !\n",
            "\n",
            "[%] Downloading Image #4 from https://n4.sdlcdn.com/imgs/j/b/n/cricket-bat-SDL597858602-1-ce327.jpg\n",
            "[%] File Downloaded !\n",
            "\n",
            "[%] Downloading Image #5 from https://n2.sdlcdn.com/imgs/i/d/v/Strauss-Kashmir-Willow-Cricket-Bat-SDL859073290-2-d6a35.jpeg\n",
            "[%] File Downloaded !\n",
            "\n",
            "[%] Downloading Image #6 from https://n1.sdlcdn.com/imgs/j/b/n/cricket-bat-SDL969661030-2-cf735.jpg\n",
            "[%] File Downloaded !\n",
            "\n",
            "[%] Downloading Image #7 from https://n4.sdlcdn.com/imgs/i/9/l/BMD-POPLER-WELLOW-CRICKET-BAT-SDL196099538-1-cf279.jpeg\n",
            "[%] File Downloaded !\n",
            "\n",
            "[%] Downloading Image #8 from https://www.talentcricket.co.uk/images/custom/newberyinvictusbat192__size-800-0.jpg\n",
            "[%] File Downloaded !\n",
            "\n",
            "[%] Downloading Image #9 from https://n3.sdlcdn.com/imgs/i/h/e/CEAT-KASHMIR-WILLOW-CRICKET-BAT-SDL023104939-1-7c8bd.jpeg\n",
            "[%] File Downloaded !\n",
            "\n",
            "[%] Downloading Image #10 from https://n2.sdlcdn.com/imgs/g/k/i/W-sports-Best-Quality-Natural-SDL602621706-1-42dbd.jpg\n",
            "[%] File Downloaded !\n",
            "\n",
            "[%] Downloading Image #11 from https://n3.sdlcdn.com/imgs/i/g/x/Strauss-English-Willow-Cricket-Bat-SDL886371697-2-08b13.jpeg\n",
            "[%] File Downloaded !\n",
            "\n",
            "[%] Downloading Image #12 from https://n4.sdlcdn.com/imgs/g/6/k/ABS-TOP-Grains-English-Willow-SDL507924939-3-6c5a0.jpeg\n",
            "[%] File Downloaded !\n",
            "\n",
            "[%] Downloading Image #13 from https://n2.sdlcdn.com/imgs/a/s/6/Puma-Kashmir-Willow-Cricket-Bat-SDL010743540-1-d1617.jpg\n",
            "[%] File Downloaded !\n",
            "\n",
            "[%] Downloading Image #14 from https://n4.sdlcdn.com/imgs/j/i/5/SG-Cricket-Bat-SDL743753262-1-14a59.jpg\n",
            "[%] File Downloaded !\n",
            "\n",
            "[%] Downloading Image #15 from https://n1.sdlcdn.com/imgs/f/e/u/Puma-Evospeed-1-Cricket-Bat-SDL293036791-2-357b1.jpg\n",
            "[%] File Downloaded !\n",
            "\n",
            "[%] Downloading Image #16 from https://n1.sdlcdn.com/imgs/f/u/t/kks-flameback-masters-cricket-bat-SDL340031809-3-9da56.jpg\n",
            "[%] File Downloaded !\n",
            "\n",
            "[%] Downloading Image #17 from https://cricketshop.co.za/wp-content/uploads/2019/04/BAS-Vampire-Legend-Gold-Cricket-Bat-100248S.jpg\n",
            "[%] File Downloaded !\n",
            "\n",
            "[%] Downloading Image #18 from https://n1.sdlcdn.com/imgs/f/b/q/KKS-Popular-Willow-Cricket-Bat-SDL203846664-1-2f0a9.jpg\n",
            "[%] File Downloaded !\n",
            "\n",
            "[%] Downloading Image #19 from https://n3.sdlcdn.com/imgs/i/3/g/LenWave-Kashmir-Willow-Cricket-Bat-SDL366288239-4-c01e4.jpeg\n",
            "[%] File Downloaded !\n",
            "\n",
            "[%] Downloading Image #20 from https://n3.sdlcdn.com/imgs/b/v/z/Sunley-Juniour-Cricket-Bat-SDL792866138-1-76b44.JPG\n",
            "[%] File Downloaded !\n",
            "\n",
            "[%] Downloading Image #21 from https://n4.sdlcdn.com/imgs/b/s/r/SS-Soft-Pro-Cricket-Bat-SDL208754933-1-5adc9.jpg\n",
            "[%] File Downloaded !\n",
            "\n",
            "[%] Downloading Image #22 from http://files.websitebuilder.prositehosting.co.uk/fasthosts25824/image/ssorange.jpg\n",
            "[%] File Downloaded !\n",
            "\n",
            "[%] Downloading Image #23 from https://n2.sdlcdn.com/imgs/g/i/f/Kashmir-Willow-Cricket-Bat-SDL049542430-1-cf699.jpeg\n",
            "[%] File Downloaded !\n",
            "\n",
            "[%] Downloading Image #24 from https://edsports.ie/wp-content/uploads/2010/05/kookaburra-kahuna-3.0-cricket-bat.png\n",
            "[%] File Downloaded !\n",
            "\n",
            "[%] Downloading Image #25 from https://n3.sdlcdn.com/imgs/b/x/k/Osprey-Poplar-Willow-Cricket-Bat-SDL547380497-3-f6048.jpg\n",
            "[%] File Downloaded !\n",
            "\n",
            "[%] Downloading Image #26 from https://n2.sdlcdn.com/imgs/i/9/e/cricket-bat-SDL694681144-2-e84f8.jpg\n",
            "[%] File Downloaded !\n",
            "\n",
            "[%] Downloading Image #27 from https://n2.sdlcdn.com/imgs/f/s/i/instyler-Stroke-Size-4-Cricket-SDL142530945-1-c8c8f.jpg\n",
            "[%] File Downloaded !\n",
            "\n",
            "[%] Downloading Image #28 from https://n3.sdlcdn.com/imgs/g/4/3/Bogan-NEW-BALANCE-TC-860-SDL563206736-1-a84cc.jpeg\n",
            "[%] File Downloaded !\n",
            "\n",
            "[%] Downloading Image #29 from https://n2.sdlcdn.com/imgs/f/x/q/Cricket-bat-SDL495813378-1-e8fa4.jpeg\n",
            "[%] File Downloaded !\n",
            "\n",
            "[%] Downloading Image #30 from https://files.websitebuilder.prositehosting.co.uk/65/23/6523b3da-4d78-40a5-a03c-64b43e28bfb9.jpg\n",
            "[%] File Downloaded !\n",
            "\n",
            "\n",
            "\n",
            "[%] Done. Downloaded 30 images.\n",
            "===============================================\n",
            "\n",
            "Please show your support here\n",
            "https://www.buymeacoffee.com/gurugaurav\n",
            "\n",
            "===============================================\n",
            "\n",
            "time: 6.58 s (started: 2021-06-17 15:25:33 +00:00)\n"
          ],
          "name": "stdout"
        }
      ]
    },
    {
      "cell_type": "code",
      "metadata": {
        "colab": {
          "base_uri": "https://localhost:8080/"
        },
        "id": "pBLWDtljjpXv",
        "outputId": "b5a9ced4-ca5a-4cb4-d036-298d352efed4"
      },
      "source": [
        "downloader.download(\"Racket\",limit=30,output_dir='image',adult_filter_off=True)"
      ],
      "execution_count": 5,
      "outputs": [
        {
          "output_type": "stream",
          "text": [
            "[%] Downloading Images to /content/image/Racket\n",
            "\n",
            "\n",
            "[!!]Indexing page: 1\n",
            "\n",
            "[%] Indexed 30 Images on Page 1.\n",
            "\n",
            "===============================================\n",
            "\n",
            "[%] Downloading Image #1 from https://i.pinimg.com/originals/a3/48/6b/a3486b70a4ea33a1700ebec137a904c0.jpg\n",
            "[%] File Downloaded !\n",
            "\n",
            "[%] Downloading Image #2 from http://www.basedstory.com/wp-content/uploads/2015/05/BadmintonracketsIMG_5158.jpg\n",
            "[%] File Downloaded !\n",
            "\n",
            "[%] Downloading Image #3 from https://cdn.sweatband.com/yonex_muscle_power_2_junior_badminton_racket_yonex_muscle_power_2_junior_badminton_racket-red_2000x2000.jpg\n",
            "[%] File Downloaded !\n",
            "\n",
            "[%] Downloading Image #4 from https://i.pinimg.com/originals/73/f7/d2/73f7d24aa7e189f3f30ca13a84fe727e.jpg\n",
            "[%] File Downloaded !\n",
            "\n",
            "[%] Downloading Image #5 from https://n3.sdlcdn.com/imgs/b/s/2/ARTENGO-TR-830-Tennis-Racket-SDL998137572-5-974a1.jpg\n",
            "[%] File Downloaded !\n",
            "\n",
            "[%] Downloading Image #6 from https://n3.sdlcdn.com/imgs/b/u/b/ARTENGO-BR-750-Badminton-Racket-SDL295924521-1-5d212.jpg\n",
            "[%] File Downloaded !\n",
            "\n",
            "[%] Downloading Image #7 from https://i.pinimg.com/originals/75/f1/42/75f1420cb3c6e8e5acd9ed7648970bde.jpg\n",
            "[%] File Downloaded !\n",
            "\n",
            "[%] Downloading Image #8 from https://i.ebayimg.com/images/i/192642261972-0-1/s-l1000.jpg\n",
            "[%] File Downloaded !\n",
            "\n",
            "[%] Downloading Image #9 from http://www.basedstory.com/wp-content/uploads/2015/05/tennisIMG_5169.jpg\n",
            "[%] File Downloaded !\n",
            "\n",
            "[%] Downloading Image #10 from https://files.websitebuilder.prositehosting.co.uk/51/50/51507ed5-3888-4a53-9c74-14a0a44f900e.jpg\n",
            "[%] File Downloaded !\n",
            "\n",
            "[%] Downloading Image #11 from https://tennisthump.com/wp-content/uploads/2019/04/Tennis_racket_and_ball-scaled.jpg\n",
            "[%] File Downloaded !\n",
            "\n",
            "[%] Downloading Image #12 from https://n3.sdlcdn.com/imgs/b/s/2/ARTENGO-TR-860-Tennis-Racket-SDL991599837-2-a8da1.jpg\n",
            "[%] File Downloaded !\n",
            "\n",
            "[%] Downloading Image #13 from https://n4.sdlcdn.com/imgs/b/2/h/ARTENGO-SR-700-Squash-Racket-SDL691369985-3-ecd6d.jpg\n",
            "[%] File Downloaded !\n",
            "\n",
            "[%] Downloading Image #14 from https://n3.sdlcdn.com/imgs/b/u/b/ARTENGO-BR-750-Badminton-Racket-SDL295924521-4-a9427.jpg\n",
            "[%] File Downloaded !\n",
            "\n",
            "[%] Downloading Image #15 from https://n1.sdlcdn.com/imgs/b/u/l/ARTENGO-BR-700-Badminton-Racket-SDL289792421-1-8520c.jpg\n",
            "[%] File Downloaded !\n",
            "\n",
            "[%] Downloading Image #16 from https://i.pinimg.com/originals/a2/fe/03/a2fe039cf629e2e80b9cc147c26e06af.jpg\n",
            "[%] File Downloaded !\n",
            "\n",
            "[%] Downloading Image #17 from https://n2.sdlcdn.com/imgs/b/u/l/ARTENGO-SR-800-Squash-Racket-SDL265098331-6-b8e36.jpg\n",
            "[%] File Downloaded !\n",
            "\n",
            "[%] Downloading Image #18 from https://n4.sdlcdn.com/imgs/b/u/l/ARTENGO-SR-800-Squash-Racket-SDL265098331-3-0568b.jpg\n",
            "[%] File Downloaded !\n",
            "\n",
            "[%] Downloading Image #19 from https://n3.sdlcdn.com/imgs/b/s/2/ARTENGO-TR-860-Tennis-Racket-SDL991599837-7-98414.jpg\n",
            "[%] File Downloaded !\n",
            "\n",
            "[%] Downloading Image #20 from https://n1.sdlcdn.com/imgs/b/2/h/ARTENGO-SR-700-Squash-Racket-SDL691369985-5-380ff.jpg\n",
            "[%] File Downloaded !\n",
            "\n",
            "[%] Downloading Image #21 from https://s7d2.scene7.com/is/image/dkscdn/16HEDATS6STRNGXXXPRQ\n",
            "[%] File Downloaded !\n",
            "\n",
            "[%] Downloading Image #22 from http://www.basedstory.com/wp-content/uploads/2015/05/logotennisIMG_5183.jpg\n",
            "[%] File Downloaded !\n",
            "\n",
            "[%] Downloading Image #23 from https://img.alicdn.com/imgextra/i1/27557700/TB2BXcuoFXXXXXMXXXXXXXXXXXX_!!27557700.jpg\n",
            "[%] File Downloaded !\n",
            "\n",
            "[%] Downloading Image #24 from https://baselineracquets.co.za/wp-content/uploads/2020/10/DL10295919_03.jpg\n",
            "[%] File Downloaded !\n",
            "\n",
            "[%] Downloading Image #25 from https://i.ebayimg.com/images/i/391981306994-0-1/s-l1000.jpg\n",
            "[%] File Downloaded !\n",
            "\n",
            "[%] Downloading Image #26 from https://shop.r10s.jp/racketfield/cabinet/takenaga/63jtn43227-rf.jpg\n",
            "[%] File Downloaded !\n",
            "\n",
            "[%] Downloading Image #27 from https://i.pinimg.com/originals/6b/7b/22/6b7b22c310d66d7ec0a39b32cd1f4c39.jpg\n",
            "[%] File Downloaded !\n",
            "\n",
            "[%] Downloading Image #28 from http://cdn.shopclues.com/images/detailed/359/BadmintonRacketSetof2And10ShtlockBoxBlack_1363147572.jpg\n",
            "[%] File Downloaded !\n",
            "\n",
            "[%] Downloading Image #29 from https://n2.sdlcdn.com/imgs/b/u/7/Maspro-Badminton-Raquet-SDL718177040-2-21071.jpg\n",
            "[%] File Downloaded !\n",
            "\n",
            "[%] Downloading Image #30 from http://www.basedstory.com/wp-content/uploads/2015/05/tennisIMG_5185.jpg\n",
            "[%] File Downloaded !\n",
            "\n",
            "\n",
            "\n",
            "[%] Done. Downloaded 30 images.\n",
            "===============================================\n",
            "\n",
            "Please show your support here\n",
            "https://www.buymeacoffee.com/gurugaurav\n",
            "\n",
            "===============================================\n",
            "\n",
            "time: 9.98 s (started: 2021-06-17 15:25:40 +00:00)\n"
          ],
          "name": "stdout"
        }
      ]
    },
    {
      "cell_type": "code",
      "metadata": {
        "colab": {
          "base_uri": "https://localhost:8080/"
        },
        "id": "qk0e2zS0lcy1",
        "outputId": "6d388bf6-4fab-4012-abf2-137399b85917"
      },
      "source": [
        "downloader.download(\"Soccer Ball\",limit=30,output_dir='image',adult_filter_off=True)"
      ],
      "execution_count": 21,
      "outputs": [
        {
          "output_type": "stream",
          "text": [
            "[%] Downloading Images to /content/image/Soccer Ball\n",
            "\n",
            "\n",
            "[!!]Indexing page: 1\n",
            "\n",
            "[%] Indexed 30 Images on Page 1.\n",
            "\n",
            "===============================================\n",
            "\n",
            "[%] Downloading Image #1 from https://i.pinimg.com/originals/b7/74/02/b77402a366753419b354e9eb4c44c443.jpg\n",
            "[%] File Downloaded !\n",
            "\n",
            "[%] Downloading Image #2 from https://www.soccerpro.com/wp-content/uploads/2018/01/sc3172_665_nike_mancity_supporters_ball_01.jpg\n",
            "[%] File Downloaded !\n",
            "\n",
            "[%] Downloading Image #3 from https://www.soccermaster.com/wp-content/uploads/cw4155_adidas_bayern_ball_sm_06.jpg\n",
            "[%] File Downloaded !\n",
            "\n",
            "[%] Downloading Image #4 from http://www.prodirectsoccer.com/us/productimages/V3_1_Main/132075.jpg\n",
            "[%] File Downloaded !\n",
            "\n",
            "[%] Downloading Image #5 from https://www.soccermaster.com/wp-content/uploads/cw4155_adidas_bayern_ball_sm_02.jpg\n",
            "[%] File Downloaded !\n",
            "\n",
            "[%] Downloading Image #6 from https://xemtni.com/wp-content/uploads/2019/07/69115-1.jpg\n",
            "[%] File Downloaded !\n",
            "\n",
            "[%] Downloading Image #7 from http://publicdomainpictures.net/pictures/140000/velka/true-soccer-ball.jpg\n",
            "[%] File Downloaded !\n",
            "\n",
            "[%] Downloading Image #8 from https://www.soccermaster.com/wp-content/uploads/cw4155_adidas_bayern_ball_sm_03.jpg\n",
            "[%] File Downloaded !\n",
            "\n",
            "[%] Downloading Image #9 from https://www.soccermaster.com/wp-content/uploads/cw4155_adidas_bayern_ball_sm_05.jpg\n",
            "[%] File Downloaded !\n",
            "\n",
            "[%] Downloading Image #10 from https://www.soccermaster.com/wp-content/uploads/2018/03/bs3439_adidas_bayern_ball_02-1.jpg\n",
            "[%] File Downloaded !\n",
            "\n",
            "[%] Downloading Image #11 from https://www.victeamsports.com/wp-content/uploads/2019/04/Soft-Touch-Soccer-Football-1.jpg\n",
            "[%] File Downloaded !\n",
            "\n",
            "[%] Downloading Image #12 from https://www.soccermaster.com/wp-content/uploads/2018/03/bs3439_adidas_bayern_ball_01-2.jpg\n",
            "[%] File Downloaded !\n",
            "\n",
            "[%] Downloading Image #13 from https://www.soccermaster.com/wp-content/uploads/cw4155_adidas_bayern_ball_sm_01.jpg\n",
            "[%] File Downloaded !\n",
            "\n",
            "[%] Downloading Image #14 from https://www.prodirectsoccer.com/ProductImages/Gallery_1/227626_Gallery_1_0761099.jpg\n",
            "[%] File Downloaded !\n",
            "\n",
            "[%] Downloading Image #15 from https://i.ebayimg.com/images/i/173431732108-0-1/s-l1000.jpg\n",
            "[%] File Downloaded !\n",
            "\n",
            "[%] Downloading Image #16 from https://www.prodirectsoccer.com/productimages/V3_1_Main/163714.jpg\n",
            "[%] File Downloaded !\n",
            "\n",
            "[%] Downloading Image #17 from https://www.prodirectsoccer.com/productimages/V3_1_Main/122527.jpg\n",
            "[%] File Downloaded !\n",
            "\n",
            "[%] Downloading Image #18 from https://i.pinimg.com/originals/d0/3c/97/d03c97ba889fdec9f43916ef1580f8e8.jpg\n",
            "[%] File Downloaded !\n",
            "\n",
            "[%] Downloading Image #19 from https://www.prodirectsoccer.com/ProductImages/Main/227626_Main_0761097.jpg\n",
            "[%] File Downloaded !\n",
            "\n",
            "[%] Downloading Image #20 from https://www.prodirectsoccer.com/ProductImages/Gallery_2/227626_Gallery_2_0761100.jpg\n",
            "[%] File Downloaded !\n",
            "\n",
            "[%] Downloading Image #21 from https://www.victeamsports.com/wp-content/uploads/2019/04/Country-Flag-Soccer-Ball-1.jpg\n",
            "[%] File Downloaded !\n",
            "\n",
            "[%] Downloading Image #22 from https://www.prodirectsoccer.com/us/productimages/V3_1_Main/202898.jpg\n",
            "[%] File Downloaded !\n",
            "\n",
            "[%] Downloading Image #23 from https://www.soccermaster.com/wp-content/uploads/cw4155_adidas_bayern_ball_sm_04.jpg\n",
            "[%] File Downloaded !\n",
            "\n",
            "[%] Downloading Image #24 from http://www.prodirectsoccer.com/us/productimages/V3_1_Main/181468.jpg\n",
            "[%] File Downloaded !\n",
            "\n",
            "[%] Downloading Image #25 from https://i.ebayimg.com/images/i/201546906075-0-1/s-l1000.jpg\n",
            "[%] File Downloaded !\n",
            "\n",
            "[%] Downloading Image #26 from https://www.victeamsports.com/wp-content/uploads/2019/04/Brazil-National-Flag-Soccer-Ball-1.jpg\n",
            "[%] File Downloaded !\n",
            "\n",
            "[%] Downloading Image #27 from https://www.victeamsports.com/wp-content/uploads/2019/04/Plain-White-Football-Soccer-Ball-1.jpg\n",
            "[%] File Downloaded !\n",
            "\n",
            "[%] Downloading Image #28 from https://i.pinimg.com/474x/42/f1/c0/42f1c08f80590245c9435a03437dcced--football-soccer-soccer-ball.jpg\n",
            "[%] File Downloaded !\n",
            "\n",
            "[%] Downloading Image #29 from https://i.pinimg.com/originals/f5/73/62/f57362921fc1d6c8ee138a82eb9b30c1.jpg\n",
            "[%] File Downloaded !\n",
            "\n",
            "[%] Downloading Image #30 from https://i.ebayimg.com/images/i/122342117879-0-1/s-l1000.jpg\n",
            "[%] File Downloaded !\n",
            "\n",
            "\n",
            "\n",
            "[%] Done. Downloaded 30 images.\n",
            "===============================================\n",
            "\n",
            "Please show your support here\n",
            "https://www.buymeacoffee.com/gurugaurav\n",
            "\n",
            "===============================================\n",
            "\n",
            "time: 11.6 s (started: 2021-06-17 15:43:00 +00:00)\n"
          ],
          "name": "stdout"
        }
      ]
    },
    {
      "cell_type": "code",
      "metadata": {
        "colab": {
          "base_uri": "https://localhost:8080/"
        },
        "id": "kNQA4dQCoWbF",
        "outputId": "eb998000-29bc-405a-e148-0b59dbbb3662"
      },
      "source": [
        " import os\n",
        " import matplotlib.pyplot as plt\n",
        " import numpy as np\n",
        " from skimage.io import imread\n",
        " from skimage.transform import resize\n",
        "\n",
        " target = []\n",
        " images = []\n",
        " flat_data = []\n",
        "\n",
        "\n",
        " DATADIR = '/content/image'\n",
        " CATEGORIES = ['cricket bat','Racket','Soccer Ball']\n",
        "\n",
        " for category in CATEGORIES:\n",
        "   class_num = CATEGORIES.index(category)\n",
        "   path = os.path.join(DATADIR,category)\n",
        "   for img in os.listdir(path):\n",
        "         img_array = imread(os.path.join(path,img))\n",
        "         #print(img_array.shape)\n",
        "         #plt.imshow(img_array)\n",
        "         img_resized = resize(img_array,(150,150,3))\n",
        "         flat_data.append(img_resized.flatten())\n",
        "         images.append(img_resized)\n",
        "         target.append(class_num)\n",
        "\n",
        "flat_data = np.array(flat_data)\n",
        "target = np.array(target)\n",
        "images = np.array(images)\n"
      ],
      "execution_count": 23,
      "outputs": [
        {
          "output_type": "stream",
          "text": [
            "time: 25.6 s (started: 2021-06-17 15:43:34 +00:00)\n"
          ],
          "name": "stdout"
        }
      ]
    },
    {
      "cell_type": "code",
      "metadata": {
        "colab": {
          "base_uri": "https://localhost:8080/",
          "height": 299
        },
        "id": "DsiSsQed_xlk",
        "outputId": "62701d7e-1ba3-4a3b-edc2-2d9e56bae5ca"
      },
      "source": [
        "unique,count = np.unique(target,return_counts=True)\n",
        "plt.bar(CATEGORIES,count)"
      ],
      "execution_count": 24,
      "outputs": [
        {
          "output_type": "execute_result",
          "data": {
            "text/plain": [
              "<BarContainer object of 3 artists>"
            ]
          },
          "metadata": {
            "tags": []
          },
          "execution_count": 24
        },
        {
          "output_type": "display_data",
          "data": {
            "image/png": "[encoded data removed]",
            "text/plain": [
              "<Figure size 432x288 with 1 Axes>"
            ]
          },
          "metadata": {
            "tags": [],
            "needs_background": "light"
          }
        },
        {
          "output_type": "stream",
          "text": [
            "time: 143 ms (started: 2021-06-17 15:44:18 +00:00)\n"
          ],
          "name": "stdout"
        }
      ]
    },
    {
      "cell_type": "code",
      "metadata": {
        "colab": {
          "base_uri": "https://localhost:8080/"
        },
        "id": "5JOSXtMMBSng",
        "outputId": "9d983b02-ee44-4d90-e7c4-28c2cc32bc9b"
      },
      "source": [
        "from sklearn.model_selection import train_test_split\n",
        "x_train,x_test,y_train,y_test = train_test_split(flat_data,target,\n",
        "                                                 test_size=0.3,random_state=109)"
      ],
      "execution_count": 25,
      "outputs": [
        {
          "output_type": "stream",
          "text": [
            "time: 22.2 ms (started: 2021-06-17 15:44:25 +00:00)\n"
          ],
          "name": "stdout"
        }
      ]
    },
    {
      "cell_type": "code",
      "metadata": {
        "colab": {
          "base_uri": "https://localhost:8080/"
        },
        "id": "Q0QeHmeJCIBl",
        "outputId": "7c46e407-f05e-473b-ccf4-83b66e6c4f18"
      },
      "source": [
        "from sklearn.model_selection import GridSearchCV\n",
        "from sklearn import svm\n",
        "param_grid = [\n",
        "              {'C':[1,10,100,1000],'kernel':['linear']},\n",
        "              {'C':[1,10,100,1000],'gamma':[0.001,0.0001],'kernel':['rbf']},\n",
        "]\n",
        "svc = svm.SVC(probability=True)\n",
        "clf = GridSearchCV(svc,param_grid)\n",
        "clf.fit(x_train, y_train)"
      ],
      "execution_count": 26,
      "outputs": [
        {
          "output_type": "execute_result",
          "data": {
            "text/plain": [
              "GridSearchCV(cv=None, error_score=nan,\n",
              "             estimator=SVC(C=1.0, break_ties=False, cache_size=200,\n",
              "                           class_weight=None, coef0=0.0,\n",
              "                           decision_function_shape='ovr', degree=3,\n",
              "                           gamma='scale', kernel='rbf', max_iter=-1,\n",
              "                           probability=True, random_state=None, shrinking=True,\n",
              "                           tol=0.001, verbose=False),\n",
              "             iid='deprecated', n_jobs=None,\n",
              "             param_grid=[{'C': [1, 10, 100, 1000], 'kernel': ['linear']},\n",
              "                         {'C': [1, 10, 100, 1000], 'gamma': [0.001, 0.0001],\n",
              "                          'kernel': ['rbf']}],\n",
              "             pre_dispatch='2*n_jobs', refit=True, return_train_score=False,\n",
              "             scoring=None, verbose=0)"
            ]
          },
          "metadata": {
            "tags": []
          },
          "execution_count": 26
        },
        {
          "output_type": "stream",
          "text": [
            "time: 1min 57s (started: 2021-06-17 15:44:28 +00:00)\n"
          ],
          "name": "stdout"
        }
      ]
    },
    {
      "cell_type": "code",
      "metadata": {
        "colab": {
          "base_uri": "https://localhost:8080/"
        },
        "id": "asqm_Ku9TqJe",
        "outputId": "a01b1660-e2d2-4849-d7e5-71481bd708dc"
      },
      "source": [
        "y_pred = clf.predict(x_test)\n",
        "y_pred"
      ],
      "execution_count": 27,
      "outputs": [
        {
          "output_type": "execute_result",
          "data": {
            "text/plain": [
              "array([0, 0, 1, 2, 2, 1, 0, 1, 1, 0, 1, 1, 0, 2, 2, 1, 2, 1, 0, 1, 2, 2,\n",
              "       2, 0, 0, 0, 1])"
            ]
          },
          "metadata": {
            "tags": []
          },
          "execution_count": 27
        },
        {
          "output_type": "stream",
          "text": [
            "time: 170 ms (started: 2021-06-17 15:46:39 +00:00)\n"
          ],
          "name": "stdout"
        }
      ]
    },
    {
      "cell_type": "code",
      "metadata": {
        "colab": {
          "base_uri": "https://localhost:8080/"
        },
        "id": "yVDgtkgpToI_",
        "outputId": "587ef9f2-7d39-483c-b7b4-e9a736ad2e72"
      },
      "source": [
        "y_test"
      ],
      "execution_count": 28,
      "outputs": [
        {
          "output_type": "execute_result",
          "data": {
            "text/plain": [
              "array([1, 0, 1, 2, 2, 1, 0, 1, 1, 0, 1, 0, 1, 2, 2, 1, 2, 1, 0, 1, 2, 2,\n",
              "       2, 0, 0, 0, 1])"
            ]
          },
          "metadata": {
            "tags": []
          },
          "execution_count": 28
        },
        {
          "output_type": "stream",
          "text": [
            "time: 5.01 ms (started: 2021-06-17 15:46:42 +00:00)\n"
          ],
          "name": "stdout"
        }
      ]
    },
    {
      "cell_type": "code",
      "metadata": {
        "colab": {
          "base_uri": "https://localhost:8080/"
        },
        "id": "SMOlncvNS4v6",
        "outputId": "2407d441-89a9-4eb3-a85c-76ddd8d30d45"
      },
      "source": [
        " from sklearn.metrics import accuracy_score,confusion_matrix"
      ],
      "execution_count": 29,
      "outputs": [
        {
          "output_type": "stream",
          "text": [
            "time: 1.24 ms (started: 2021-06-17 15:46:44 +00:00)\n"
          ],
          "name": "stdout"
        }
      ]
    },
    {
      "cell_type": "code",
      "metadata": {
        "colab": {
          "base_uri": "https://localhost:8080/"
        },
        "id": "5da-1oaVO6YE",
        "outputId": "e7a11e8f-c648-4bf4-a5d9-046221474679"
      },
      "source": [
        "confusion_matrix(y_pred,y_test)"
      ],
      "execution_count": 30,
      "outputs": [
        {
          "output_type": "execute_result",
          "data": {
            "text/plain": [
              "array([[7, 2, 0],\n",
              "       [1, 9, 0],\n",
              "       [0, 0, 8]])"
            ]
          },
          "metadata": {
            "tags": []
          },
          "execution_count": 30
        },
        {
          "output_type": "stream",
          "text": [
            "time: 7.67 ms (started: 2021-06-17 15:46:47 +00:00)\n"
          ],
          "name": "stdout"
        }
      ]
    },
    {
      "cell_type": "code",
      "metadata": {
        "colab": {
          "base_uri": "https://localhost:8080/"
        },
        "id": "JjUmYTLDTLqu",
        "outputId": "2ee6f6d5-9e2b-4743-a44e-b0cf33b41ddd"
      },
      "source": [
        "accuracy_score(y_pred,y_test)"
      ],
      "execution_count": 31,
      "outputs": [
        {
          "output_type": "execute_result",
          "data": {
            "text/plain": [
              "0.8888888888888888"
            ]
          },
          "metadata": {
            "tags": []
          },
          "execution_count": 31
        },
        {
          "output_type": "stream",
          "text": [
            "time: 4.94 ms (started: 2021-06-17 15:46:51 +00:00)\n"
          ],
          "name": "stdout"
        }
      ]
    },
    {
      "cell_type": "code",
      "metadata": {
        "colab": {
          "base_uri": "https://localhost:8080/"
        },
        "id": "f8OtvtmwTrBV",
        "outputId": "954bf638-ef91-42a4-8970-8fc331cc51c1"
      },
      "source": [
        "import pickle\n",
        "pickle.dump(clf,open('img_model.p','wb'))"
      ],
      "execution_count": 32,
      "outputs": [
        {
          "output_type": "stream",
          "text": [
            "time: 44.2 ms (started: 2021-06-17 15:46:55 +00:00)\n"
          ],
          "name": "stdout"
        }
      ]
    },
    {
      "cell_type": "code",
      "metadata": {
        "colab": {
          "base_uri": "https://localhost:8080/"
        },
        "id": "AjVtGoLTmgDo",
        "outputId": "7aa7201c-80a1-4cc2-9189-cacc8a3472ac"
      },
      "source": [
        "model = pickle.load(open('img_model.p','rb'))"
      ],
      "execution_count": 33,
      "outputs": [
        {
          "output_type": "stream",
          "text": [
            "time: 28.7 ms (started: 2021-06-17 15:46:59 +00:00)\n"
          ],
          "name": "stdout"
        }
      ]
    },
    {
      "cell_type": "code",
      "metadata": {
        "colab": {
          "base_uri": "https://localhost:8080/",
          "height": 337
        },
        "id": "5NKMy5TMmxAG",
        "outputId": "68781f74-0a5f-41cc-91d5-1496203c1eaf"
      },
      "source": [
        "flat_data = []\n",
        "url = input('Enter Your URL')\n",
        "img = imread(url)\n",
        "img_resized = resize(img,(150,150,3))\n",
        "flat_data.append(img_resized.flatten())\n",
        "flat_data = np.array(flat_data)\n",
        "print(img.shape)\n",
        "plt.imshow(img_resized)\n",
        "y_out = model.predict(flat_data)\n",
        "y_out = CATEGORIES[y_out[0]]\n",
        "print(f'PREDICTED OUTPUT: {y_out}')"
      ],
      "execution_count": 34,
      "outputs": [
        {
          "output_type": "stream",
          "text": [
            "Enter Your URLhttps://th.bing.com/th/id/OIP.uAAW2SAl-ISFwKoMdOPMxQHaE8?pid=ImgDet&rs=1\n",
            "(316, 474, 3)\n",
            "PREDICTED OUTPUT: Soccer Ball\n"
          ],
          "name": "stdout"
        },
        {
          "output_type": "display_data",
          "data": {
            "image/png": "[encoded data removed]",
            "text/plain": [
              "<Figure size 432x288 with 1 Axes>"
            ]
          },
          "metadata": {
            "tags": [],
            "needs_background": "light"
          }
        },
        {
          "output_type": "stream",
          "text": [
            "time: 30.5 s (started: 2021-06-17 15:47:02 +00:00)\n"
          ],
          "name": "stdout"
        }
      ]
    }
  ]
}