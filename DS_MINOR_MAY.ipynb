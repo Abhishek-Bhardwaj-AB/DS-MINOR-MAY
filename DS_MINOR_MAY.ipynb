{
  "nbformat": 4,
  "nbformat_minor": 0,
  "metadata": {
    "colab": {
      "name": "DS-MINOR-MAY.ipynb",
      "provenance": [],
      "collapsed_sections": [],
      "mount_file_id": "1TIsIQLhcGZak844BTNzTdBtHcvk2Dyc_",
      "authorship_tag": "ABX9TyOCfXmsKYc1+R6yQ79mkKDJ",
      "include_colab_link": true
    },
    "kernelspec": {
      "name": "python3",
      "display_name": "Python 3"
    },
    "language_info": {
      "name": "python"
    }
  },
  "cells": [
    {
      "cell_type": "markdown",
      "metadata": {
        "id": "view-in-github",
        "colab_type": "text"
      },
      "source": [
        "<a href=\"https://colab.research.google.com/github/Abhishekadypu/DS-MINOR-MAY/blob/main/DS_MINOR_MAY.ipynb\" target=\"_parent\"><img src=\"https://colab.research.google.com/assets/colab-badge.svg\" alt=\"Open In Colab\"/></a>"
      ]
    },
    {
      "cell_type": "code",
      "metadata": {
        "colab": {
          "base_uri": "https://localhost:8080/"
        },
        "id": "bfkWDtxmn9KT",
        "outputId": "23eec5e8-4d57-4ec6-9b01-4034ae69acfa"
      },
      "source": [
        "!pip install ipython-autotime\n",
        "%load_ext autotime"
      ],
      "execution_count": 64,
      "outputs": [
        {
          "output_type": "stream",
          "text": [
            "Requirement already satisfied: ipython-autotime in /usr/local/lib/python3.7/dist-packages (0.3.1)\n",
            "Requirement already satisfied: ipython in /usr/local/lib/python3.7/dist-packages (from ipython-autotime) (5.5.0)\n",
            "Requirement already satisfied: decorator in /usr/local/lib/python3.7/dist-packages (from ipython->ipython-autotime) (4.4.2)\n",
            "Requirement already satisfied: setuptools>=18.5 in /usr/local/lib/python3.7/dist-packages (from ipython->ipython-autotime) (57.0.0)\n",
            "Requirement already satisfied: prompt-toolkit<2.0.0,>=1.0.4 in /usr/local/lib/python3.7/dist-packages (from ipython->ipython-autotime) (1.0.18)\n",
            "Requirement already satisfied: pygments in /usr/local/lib/python3.7/dist-packages (from ipython->ipython-autotime) (2.6.1)\n",
            "Requirement already satisfied: pickleshare in /usr/local/lib/python3.7/dist-packages (from ipython->ipython-autotime) (0.7.5)\n",
            "Requirement already satisfied: pexpect; sys_platform != \"win32\" in /usr/local/lib/python3.7/dist-packages (from ipython->ipython-autotime) (4.8.0)\n",
            "Requirement already satisfied: traitlets>=4.2 in /usr/local/lib/python3.7/dist-packages (from ipython->ipython-autotime) (5.0.5)\n",
            "Requirement already satisfied: simplegeneric>0.8 in /usr/local/lib/python3.7/dist-packages (from ipython->ipython-autotime) (0.8.1)\n",
            "Requirement already satisfied: wcwidth in /usr/local/lib/python3.7/dist-packages (from prompt-toolkit<2.0.0,>=1.0.4->ipython->ipython-autotime) (0.2.5)\n",
            "Requirement already satisfied: six>=1.9.0 in /usr/local/lib/python3.7/dist-packages (from prompt-toolkit<2.0.0,>=1.0.4->ipython->ipython-autotime) (1.15.0)\n",
            "Requirement already satisfied: ptyprocess>=0.5 in /usr/local/lib/python3.7/dist-packages (from pexpect; sys_platform != \"win32\"->ipython->ipython-autotime) (0.7.0)\n",
            "Requirement already satisfied: ipython-genutils in /usr/local/lib/python3.7/dist-packages (from traitlets>=4.2->ipython->ipython-autotime) (0.2.0)\n",
            "The autotime extension is already loaded. To reload it, use:\n",
            "  %reload_ext autotime\n",
            "time: 2.94 s (started: 2021-06-16 08:20:26 +00:00)\n"
          ],
          "name": "stdout"
        }
      ]
    },
    {
      "cell_type": "code",
      "metadata": {
        "id": "8z_8wSTGiQ_2",
        "colab": {
          "base_uri": "https://localhost:8080/"
        },
        "outputId": "4c185bb1-bf79-41a0-d9d8-72a3867d608b"
      },
      "source": [
        "!pip install bing-image-downloader"
      ],
      "execution_count": 65,
      "outputs": [
        {
          "output_type": "stream",
          "text": [
            "Requirement already satisfied: bing-image-downloader in /usr/local/lib/python3.7/dist-packages (1.1.0)\n",
            "time: 2.84 s (started: 2021-06-16 08:20:34 +00:00)\n"
          ],
          "name": "stdout"
        }
      ]
    },
    {
      "cell_type": "code",
      "metadata": {
        "colab": {
          "base_uri": "https://localhost:8080/"
        },
        "id": "FMkunMYFNZAI",
        "outputId": "c4e43eac-130f-48ab-d7f5-148c98535687"
      },
      "source": [
        "!mkdir images"
      ],
      "execution_count": 66,
      "outputs": [
        {
          "output_type": "stream",
          "text": [
            "mkdir: cannot create directory ‘images’: File exists\n",
            "time: 130 ms (started: 2021-06-16 08:20:40 +00:00)\n"
          ],
          "name": "stdout"
        }
      ]
    },
    {
      "cell_type": "code",
      "metadata": {
        "colab": {
          "base_uri": "https://localhost:8080/"
        },
        "id": "8PBPBIiqfSCU",
        "outputId": "ba437f4e-ca86-4233-8927-b2797ea55073"
      },
      "source": [
        "from bing_image_downloader import downloader\n",
        "downloader.download(\"cricket bat\",limit=30,output_dir='image',adult_filter_off=True)"
      ],
      "execution_count": 41,
      "outputs": [
        {
          "output_type": "stream",
          "text": [
            "[%] Downloading Images to /content/image/cricket bat\n",
            "\n",
            "\n",
            "[!!]Indexing page: 1\n",
            "\n",
            "[%] Indexed 30 Images on Page 1.\n",
            "\n",
            "===============================================\n",
            "\n",
            "[%] Downloading Image #1 from https://n3.sdlcdn.com/imgs/g/r/s/spartan-blue-popular-willow-cricket-SDL568742857-1-ccf26.jpeg\n",
            "[%] File Downloaded !\n",
            "\n",
            "[%] Downloading Image #2 from https://n2.sdlcdn.com/imgs/h/8/3/Strauss-English-Willow-Cricket-Bat-SDL263160843-2-e975d.jpeg\n",
            "[%] File Downloaded !\n",
            "\n",
            "[%] Downloading Image #3 from https://n2.sdlcdn.com/imgs/i/x/b/Popular-willow-cricket-bat-Market-SDL943524258-1-2348e.jpeg\n",
            "[%] File Downloaded !\n",
            "\n",
            "[%] Downloading Image #4 from https://n4.sdlcdn.com/imgs/j/b/n/cricket-bat-SDL597858602-1-ce327.jpg\n",
            "[%] File Downloaded !\n",
            "\n",
            "[%] Downloading Image #5 from https://n2.sdlcdn.com/imgs/i/d/v/Strauss-Kashmir-Willow-Cricket-Bat-SDL859073290-2-d6a35.jpeg\n",
            "[%] File Downloaded !\n",
            "\n",
            "[%] Downloading Image #6 from https://n1.sdlcdn.com/imgs/j/b/n/cricket-bat-SDL969661030-2-cf735.jpg\n",
            "[%] File Downloaded !\n",
            "\n",
            "[%] Downloading Image #7 from https://n4.sdlcdn.com/imgs/i/9/l/BMD-POPLER-WELLOW-CRICKET-BAT-SDL196099538-1-cf279.jpeg\n",
            "[%] File Downloaded !\n",
            "\n",
            "[%] Downloading Image #8 from https://www.talentcricket.co.uk/images/custom/newberyinvictusbat192__size-800-0.jpg\n",
            "[%] File Downloaded !\n",
            "\n",
            "[%] Downloading Image #9 from https://n3.sdlcdn.com/imgs/i/h/e/CEAT-KASHMIR-WILLOW-CRICKET-BAT-SDL023104939-1-7c8bd.jpeg\n",
            "[%] File Downloaded !\n",
            "\n",
            "[%] Downloading Image #10 from https://n2.sdlcdn.com/imgs/g/k/i/W-sports-Best-Quality-Natural-SDL602621706-1-42dbd.jpg\n",
            "[%] File Downloaded !\n",
            "\n",
            "[%] Downloading Image #11 from https://n3.sdlcdn.com/imgs/i/g/x/Strauss-English-Willow-Cricket-Bat-SDL886371697-2-08b13.jpeg\n",
            "[%] File Downloaded !\n",
            "\n",
            "[%] Downloading Image #12 from https://n4.sdlcdn.com/imgs/g/6/k/ABS-TOP-Grains-English-Willow-SDL507924939-3-6c5a0.jpeg\n",
            "[%] File Downloaded !\n",
            "\n",
            "[%] Downloading Image #13 from https://n2.sdlcdn.com/imgs/a/s/6/Puma-Kashmir-Willow-Cricket-Bat-SDL010743540-1-d1617.jpg\n",
            "[%] File Downloaded !\n",
            "\n",
            "[%] Downloading Image #14 from https://n4.sdlcdn.com/imgs/j/i/5/SG-Cricket-Bat-SDL743753262-1-14a59.jpg\n",
            "[%] File Downloaded !\n",
            "\n",
            "[%] Downloading Image #15 from https://n1.sdlcdn.com/imgs/f/e/u/Puma-Evospeed-1-Cricket-Bat-SDL293036791-2-357b1.jpg\n",
            "[%] File Downloaded !\n",
            "\n",
            "[%] Downloading Image #16 from https://n1.sdlcdn.com/imgs/f/u/t/kks-flameback-masters-cricket-bat-SDL340031809-3-9da56.jpg\n",
            "[%] File Downloaded !\n",
            "\n",
            "[%] Downloading Image #17 from https://cricketshop.co.za/wp-content/uploads/2019/04/BAS-Vampire-Legend-Gold-Cricket-Bat-100248S.jpg\n",
            "[%] File Downloaded !\n",
            "\n",
            "[%] Downloading Image #18 from https://n1.sdlcdn.com/imgs/f/b/q/KKS-Popular-Willow-Cricket-Bat-SDL203846664-1-2f0a9.jpg\n",
            "[%] File Downloaded !\n",
            "\n",
            "[%] Downloading Image #19 from https://n3.sdlcdn.com/imgs/i/3/g/LenWave-Kashmir-Willow-Cricket-Bat-SDL366288239-4-c01e4.jpeg\n",
            "[%] File Downloaded !\n",
            "\n",
            "[%] Downloading Image #20 from https://n3.sdlcdn.com/imgs/b/v/z/Sunley-Juniour-Cricket-Bat-SDL792866138-1-76b44.JPG\n",
            "[%] File Downloaded !\n",
            "\n",
            "[%] Downloading Image #21 from https://n4.sdlcdn.com/imgs/b/s/r/SS-Soft-Pro-Cricket-Bat-SDL208754933-1-5adc9.jpg\n",
            "[%] File Downloaded !\n",
            "\n",
            "[%] Downloading Image #22 from http://files.websitebuilder.prositehosting.co.uk/fasthosts25824/image/ssorange.jpg\n",
            "[%] File Downloaded !\n",
            "\n",
            "[%] Downloading Image #23 from https://n2.sdlcdn.com/imgs/g/i/f/Kashmir-Willow-Cricket-Bat-SDL049542430-1-cf699.jpeg\n",
            "[%] File Downloaded !\n",
            "\n",
            "[%] Downloading Image #24 from https://edsports.ie/wp-content/uploads/2010/05/kookaburra-kahuna-3.0-cricket-bat.png\n",
            "[%] File Downloaded !\n",
            "\n",
            "[%] Downloading Image #25 from https://n3.sdlcdn.com/imgs/b/x/k/Osprey-Poplar-Willow-Cricket-Bat-SDL547380497-3-f6048.jpg\n",
            "[%] File Downloaded !\n",
            "\n",
            "[%] Downloading Image #26 from https://n2.sdlcdn.com/imgs/i/9/e/cricket-bat-SDL694681144-2-e84f8.jpg\n",
            "[%] File Downloaded !\n",
            "\n",
            "[%] Downloading Image #27 from https://n2.sdlcdn.com/imgs/f/s/i/instyler-Stroke-Size-4-Cricket-SDL142530945-1-c8c8f.jpg\n",
            "[%] File Downloaded !\n",
            "\n",
            "[%] Downloading Image #28 from https://n3.sdlcdn.com/imgs/g/4/3/Bogan-NEW-BALANCE-TC-860-SDL563206736-1-a84cc.jpeg\n",
            "[%] File Downloaded !\n",
            "\n",
            "[%] Downloading Image #29 from https://n2.sdlcdn.com/imgs/f/x/q/Cricket-bat-SDL495813378-1-e8fa4.jpeg\n",
            "[%] File Downloaded !\n",
            "\n",
            "[%] Downloading Image #30 from https://files.websitebuilder.prositehosting.co.uk/65/23/6523b3da-4d78-40a5-a03c-64b43e28bfb9.jpg\n",
            "[%] File Downloaded !\n",
            "\n",
            "\n",
            "\n",
            "[%] Done. Downloaded 30 images.\n",
            "===============================================\n",
            "\n",
            "Please show your support here\n",
            "https://www.buymeacoffee.com/gurugaurav\n",
            "\n",
            "===============================================\n",
            "\n",
            "time: 6.59 s (started: 2021-06-16 08:07:26 +00:00)\n"
          ],
          "name": "stdout"
        }
      ]
    },
    {
      "cell_type": "code",
      "metadata": {
        "colab": {
          "base_uri": "https://localhost:8080/"
        },
        "id": "pBLWDtljjpXv",
        "outputId": "a2f6319c-9d8b-42bb-b6f6-73db5b795bf6"
      },
      "source": [
        "downloader.download(\"Racket\",limit=30,output_dir='image',adult_filter_off=True)"
      ],
      "execution_count": 42,
      "outputs": [
        {
          "output_type": "stream",
          "text": [
            "[%] Downloading Images to /content/image/Racket\n",
            "\n",
            "\n",
            "[!!]Indexing page: 1\n",
            "\n",
            "[%] Indexed 30 Images on Page 1.\n",
            "\n",
            "===============================================\n",
            "\n",
            "[%] Downloading Image #1 from https://i.pinimg.com/originals/a3/48/6b/a3486b70a4ea33a1700ebec137a904c0.jpg\n",
            "[%] File Downloaded !\n",
            "\n",
            "[%] Downloading Image #2 from http://www.basedstory.com/wp-content/uploads/2015/05/BadmintonracketsIMG_5158.jpg\n",
            "[%] File Downloaded !\n",
            "\n",
            "[%] Downloading Image #3 from https://cdn.sweatband.com/yonex_muscle_power_2_junior_badminton_racket_yonex_muscle_power_2_junior_badminton_racket-red_2000x2000.jpg\n",
            "[%] File Downloaded !\n",
            "\n",
            "[%] Downloading Image #4 from https://i.pinimg.com/originals/73/f7/d2/73f7d24aa7e189f3f30ca13a84fe727e.jpg\n",
            "[%] File Downloaded !\n",
            "\n",
            "[%] Downloading Image #5 from https://n3.sdlcdn.com/imgs/b/s/2/ARTENGO-TR-830-Tennis-Racket-SDL998137572-5-974a1.jpg\n",
            "[%] File Downloaded !\n",
            "\n",
            "[%] Downloading Image #6 from https://i.pinimg.com/originals/75/f1/42/75f1420cb3c6e8e5acd9ed7648970bde.jpg\n",
            "[%] File Downloaded !\n",
            "\n",
            "[%] Downloading Image #7 from https://n3.sdlcdn.com/imgs/b/u/b/ARTENGO-BR-750-Badminton-Racket-SDL295924521-1-5d212.jpg\n",
            "[%] File Downloaded !\n",
            "\n",
            "[%] Downloading Image #8 from https://tennisthump.com/wp-content/uploads/2019/04/Tennis_racket_and_ball-scaled.jpg\n",
            "[%] File Downloaded !\n",
            "\n",
            "[%] Downloading Image #9 from https://i.ebayimg.com/images/i/192642261972-0-1/s-l1000.jpg\n",
            "[%] File Downloaded !\n",
            "\n",
            "[%] Downloading Image #10 from http://www.basedstory.com/wp-content/uploads/2015/05/tennisIMG_5169.jpg\n",
            "[%] File Downloaded !\n",
            "\n",
            "[%] Downloading Image #11 from https://n3.sdlcdn.com/imgs/b/s/2/ARTENGO-TR-860-Tennis-Racket-SDL991599837-2-a8da1.jpg\n",
            "[%] File Downloaded !\n",
            "\n",
            "[%] Downloading Image #12 from https://n3.sdlcdn.com/imgs/b/u/b/ARTENGO-BR-750-Badminton-Racket-SDL295924521-4-a9427.jpg\n",
            "[%] File Downloaded !\n",
            "\n",
            "[%] Downloading Image #13 from https://n4.sdlcdn.com/imgs/b/2/h/ARTENGO-SR-700-Squash-Racket-SDL691369985-3-ecd6d.jpg\n",
            "[%] File Downloaded !\n",
            "\n",
            "[%] Downloading Image #14 from https://files.websitebuilder.prositehosting.co.uk/51/50/51507ed5-3888-4a53-9c74-14a0a44f900e.jpg\n",
            "[%] File Downloaded !\n",
            "\n",
            "[%] Downloading Image #15 from https://n1.sdlcdn.com/imgs/b/u/l/ARTENGO-BR-700-Badminton-Racket-SDL289792421-1-8520c.jpg\n",
            "[%] File Downloaded !\n",
            "\n",
            "[%] Downloading Image #16 from https://i.pinimg.com/originals/a2/fe/03/a2fe039cf629e2e80b9cc147c26e06af.jpg\n",
            "[%] File Downloaded !\n",
            "\n",
            "[%] Downloading Image #17 from https://n2.sdlcdn.com/imgs/b/u/l/ARTENGO-SR-800-Squash-Racket-SDL265098331-6-b8e36.jpg\n",
            "[%] File Downloaded !\n",
            "\n",
            "[%] Downloading Image #18 from https://n4.sdlcdn.com/imgs/b/u/l/ARTENGO-SR-800-Squash-Racket-SDL265098331-3-0568b.jpg\n",
            "[%] File Downloaded !\n",
            "\n",
            "[%] Downloading Image #19 from https://n3.sdlcdn.com/imgs/b/s/2/ARTENGO-TR-860-Tennis-Racket-SDL991599837-7-98414.jpg\n",
            "[%] File Downloaded !\n",
            "\n",
            "[%] Downloading Image #20 from https://n1.sdlcdn.com/imgs/b/2/h/ARTENGO-SR-700-Squash-Racket-SDL691369985-5-380ff.jpg\n",
            "[%] File Downloaded !\n",
            "\n",
            "[%] Downloading Image #21 from http://www.basedstory.com/wp-content/uploads/2015/05/logotennisIMG_5183.jpg\n",
            "[%] File Downloaded !\n",
            "\n",
            "[%] Downloading Image #22 from https://s7d2.scene7.com/is/image/dkscdn/16HEDATS6STRNGXXXPRQ\n",
            "[%] File Downloaded !\n",
            "\n",
            "[%] Downloading Image #23 from https://baselineracquets.co.za/wp-content/uploads/2020/10/DL10295919_03.jpg\n",
            "[%] File Downloaded !\n",
            "\n",
            "[%] Downloading Image #24 from https://shop.r10s.jp/racketfield/cabinet/takenaga/63jtn43227-rf.jpg\n",
            "[%] File Downloaded !\n",
            "\n",
            "[%] Downloading Image #25 from https://i.pinimg.com/originals/6b/7b/22/6b7b22c310d66d7ec0a39b32cd1f4c39.jpg\n",
            "[%] File Downloaded !\n",
            "\n",
            "[%] Downloading Image #26 from https://i.ebayimg.com/images/i/391981306994-0-1/s-l1000.jpg\n",
            "[%] File Downloaded !\n",
            "\n",
            "[%] Downloading Image #27 from http://cdn.shopclues.com/images/detailed/359/BadmintonRacketSetof2And10ShtlockBoxBlack_1363147572.jpg\n",
            "[%] File Downloaded !\n",
            "\n",
            "[%] Downloading Image #28 from https://n2.sdlcdn.com/imgs/b/u/7/Maspro-Badminton-Raquet-SDL718177040-2-21071.jpg\n",
            "[%] File Downloaded !\n",
            "\n",
            "[%] Downloading Image #29 from https://i.ebayimg.com/images/g/JeYAAOSwaZFa9gbQ/s-l640.jpg\n",
            "[%] File Downloaded !\n",
            "\n",
            "[%] Downloading Image #30 from http://www.basedstory.com/wp-content/uploads/2015/05/tennisIMG_5185.jpg\n",
            "[%] File Downloaded !\n",
            "\n",
            "\n",
            "\n",
            "[%] Done. Downloaded 30 images.\n",
            "===============================================\n",
            "\n",
            "Please show your support here\n",
            "https://www.buymeacoffee.com/gurugaurav\n",
            "\n",
            "===============================================\n",
            "\n",
            "time: 10.1 s (started: 2021-06-16 08:07:36 +00:00)\n"
          ],
          "name": "stdout"
        }
      ]
    },
    {
      "cell_type": "code",
      "metadata": {
        "colab": {
          "base_uri": "https://localhost:8080/"
        },
        "id": "qk0e2zS0lcy1",
        "outputId": "2a700abd-c41a-4175-de23-f4f601e2e578"
      },
      "source": [
        "downloader.download(\"baseball bat\",limit=30,output_dir='image',adult_filter_off=True)"
      ],
      "execution_count": 43,
      "outputs": [
        {
          "output_type": "stream",
          "text": [
            "[%] Downloading Images to /content/image/baseball bat\n",
            "\n",
            "\n",
            "[!!]Indexing page: 1\n",
            "\n",
            "[%] Indexed 30 Images on Page 1.\n",
            "\n",
            "===============================================\n",
            "\n",
            "[%] Downloading Image #1 from https://n1.sdlcdn.com/imgs/g/i/x/Genuine-Quality-Wooden-Baseball-Bat-SDL526576581-1-53c15.jpeg\n",
            "[%] File Downloaded !\n",
            "\n",
            "[%] Downloading Image #2 from https://truebaseball.net/wp-content/uploads/2019/08/71pn9me6PWL._AC_SL1500_.jpg\n",
            "[%] File Downloaded !\n",
            "\n",
            "[%] Downloading Image #3 from https://www.baseballmonkey.com/media/catalog/product/cache/b32e7142753984368b8a4b1edc19a338/t/r/true-baseball-bat-ts-usa-2020-10-inset2.jpg\n",
            "[%] File Downloaded !\n",
            "\n",
            "[%] Downloading Image #4 from https://cdn.shopify.com/s/files/1/1379/0187/products/005_271_TDS-UT-20-T1X-10_USSSA_DROP10_-_ANGLE6_6913654e-3ffe-43df-9c1e-37d705f8be85_2048x.png?v=1583344333\n",
            "[%] File Downloaded !\n",
            "\n",
            "[%] Downloading Image #5 from https://cdn11.bigcommerce.com/s-cehlg7yhg/images/stencil/1280x1280/products/1786/5564/008_243_TDS-UT-20-T2X-10_USSSA_DROP10_-_ANGLE8_e2964e2e-5b8b-4f40-a5c5-d6795e398546__83041.1604936770.png?c=1\n",
            "[%] File Downloaded !\n",
            "\n",
            "[%] Downloading Image #6 from https://www.baseballmonkey.com/media/catalog/product/cache/b32e7142753984368b8a4b1edc19a338/t/r/true-baseball-bat-tssx-usssa-2020-10-inset7.jpg\n",
            "[%] File Downloaded !\n",
            "\n",
            "[%] Downloading Image #7 from https://cdn11.bigcommerce.com/s-cehlg7yhg/images/stencil/1280x1280/products/1786/5570/008_243_TDS-UT-20-T2X-10_USSSA_DROP10_-_ANGLE7_e766c135-9c3c-49ed-8dff-76a323cc921a__09309.1604936770.png?c=1\n",
            "[%] File Downloaded !\n",
            "\n",
            "[%] Downloading Image #8 from https://dac8r2vkxfv8c.cloudfront.net/images/products/4041-12-19-true-t--x--10-usssa-baseball-bat--ut-tssx-20-10-32234-8_l.jpg\n",
            "[%] File Downloaded !\n",
            "\n",
            "[%] Downloading Image #9 from https://cdn11.bigcommerce.com/s-cehlg7yhg/images/stencil/1280x1280/products/1787/5574/005_271_TDS-UT-20-T1X-10_USSSA_DROP10_-_ANGLE4_88dfefd5-e552-41e2-b32d-2d7bf41fe787__28686.1604936610.png?c=1\n",
            "[%] File Downloaded !\n",
            "\n",
            "[%] Downloading Image #10 from https://cdn.shopify.com/s/files/1/1379/0187/products/005_271_TDS-UT-20-T1X-10_USSSA_DROP10_-_ANGLE7_34c35ff7-b76e-4538-8f2b-f39081cb7d1a_2048x.png?v=1583344273\n",
            "[%] File Downloaded !\n",
            "\n",
            "[%] Downloading Image #11 from https://www.baseballmonkey.com/media/catalog/product/cache/67e73c3e16ead9e1b9befb018a874cfb/t/r/true-baseball-bat-t2-usa-2020-8-inset2.jpg\n",
            "[%] File Downloaded !\n",
            "\n",
            "[%] Downloading Image #12 from https://dac8r2vkxfv8c.cloudfront.net/images/products/f1c2-10-19-32225_l.jpg\n",
            "[%] File Downloaded !\n",
            "\n",
            "[%] Downloading Image #13 from https://www.baseballmonkey.com/media/catalog/product/cache/b32e7142753984368b8a4b1edc19a338/t/r/true-baseball-bat-t1x-usssa-2020-5-inset7.jpg\n",
            "[%] File Downloaded !\n",
            "\n",
            "[%] Downloading Image #14 from https://www.baseballmonkey.com/media/catalog/product/cache/67e73c3e16ead9e1b9befb018a874cfb/t/r/true-baseball-bat-t1-usa-2020-8-inset7.jpg\n",
            "[%] File Downloaded !\n",
            "\n",
            "[%] Downloading Image #15 from https://dac8r2vkxfv8c.cloudfront.net/images/products/57b6-01-20-true-t---10-usa-baseball-bat--yb-ts-20-10-32224-2_m.jpg\n",
            "[%] File Downloaded !\n",
            "\n",
            "[%] Downloading Image #16 from https://dac8r2vkxfv8c.cloudfront.net/images/products/5d6b-12-19-true-t--x--10-usssa-baseball-bat--ut-tssx-20-10-32234-2_l.jpg\n",
            "[%] File Downloaded !\n",
            "\n",
            "[%] Downloading Image #17 from https://cdn.shopify.com/s/files/1/1379/0187/products/005_271_TDS-UT-20-T1X-10_USSSA_DROP10_-_ANGLE3_89cb1b25-0add-4983-9b22-1f61c9e9b9b9_2048x.png?v=1583344297\n",
            "[%] File Downloaded !\n",
            "\n",
            "[%] Downloading Image #18 from https://dac8r2vkxfv8c.cloudfront.net/images/products/1202-10-19-32223_m.jpg\n",
            "[%] File Downloaded !\n",
            "\n",
            "[%] Downloading Image #19 from https://dac8r2vkxfv8c.cloudfront.net/images/products/ce7e-10-19-32225-10_l.jpg\n",
            "[%] File Downloaded !\n",
            "\n",
            "[%] Downloading Image #20 from https://dac8r2vkxfv8c.cloudfront.net/images/products/54f5-10-19-32222-1_l.jpg\n",
            "[%] File Downloaded !\n",
            "\n",
            "[%] Downloading Image #21 from https://dac8r2vkxfv8c.cloudfront.net/images/products/12aa-12-19-true-t-x--10-usssa-baseball-bat--ut-tsx-20-10-32233-8_l.jpg\n",
            "[%] File Downloaded !\n",
            "\n",
            "[%] Downloading Image #22 from https://dac8r2vkxfv8c.cloudfront.net/images/products/403b-10-19-32227_l.jpg\n",
            "[%] File Downloaded !\n",
            "\n",
            "[%] Downloading Image #23 from https://dac8r2vkxfv8c.cloudfront.net/images/products/6238-10-19-32227-10_l.jpg\n",
            "[%] File Downloaded !\n",
            "\n",
            "[%] Downloading Image #24 from https://cdn.shopify.com/s/files/1/1379/0187/products/true-2020-t1x-2-3-4-usssa-bat-10-angle5-vert_32a8af36-2757-4c4c-8059-62e80bc7afad_2048x.png?v=1583330304\n",
            "[%] File Downloaded !\n",
            "\n",
            "[%] Downloading Image #25 from https://dac8r2vkxfv8c.cloudfront.net/images/products/9457-10-19-32230-8_l.jpg\n",
            "[%] File Downloaded !\n",
            "\n",
            "[%] Downloading Image #26 from https://dac8r2vkxfv8c.cloudfront.net/images/products/8940-06-18-ra13-ybrapw_l.jpg\n",
            "[%] File Downloaded !\n",
            "\n",
            "[%] Downloading Image #27 from https://cdn.britannica.com/53/212553-050-E4A98496/Baseball-bat.jpg\n",
            "[%] File Downloaded !\n",
            "\n",
            "[%] Downloading Image #28 from https://cdn10.bigcommerce.com/s-ujluw5/product_images/theme_images/IMG_2268.jpg?t=1550601834\n",
            "[%] File Downloaded !\n",
            "\n",
            "[%] Downloading Image #29 from https://dac8r2vkxfv8c.cloudfront.net/images/products/4661-06-18-mz10-mza271_l.jpg\n",
            "[%] File Downloaded !\n",
            "\n",
            "[%] Downloading Image #30 from https://cdn.shopify.com/s/files/1/1379/0187/products/005_271_TDS-UT-20-T1X-10_USSSA_DROP10_-_ANGLE5_1fbd13d1-7b21-4acf-8793-9ef2cf55c79e_2048x.png?v=1583330327\n",
            "[%] File Downloaded !\n",
            "\n",
            "\n",
            "\n",
            "[%] Done. Downloaded 30 images.\n",
            "===============================================\n",
            "\n",
            "Please show your support here\n",
            "https://www.buymeacoffee.com/gurugaurav\n",
            "\n",
            "===============================================\n",
            "\n",
            "time: 6.1 s (started: 2021-06-16 08:07:49 +00:00)\n"
          ],
          "name": "stdout"
        }
      ]
    },
    {
      "cell_type": "code",
      "metadata": {
        "colab": {
          "base_uri": "https://localhost:8080/"
        },
        "id": "kNQA4dQCoWbF",
        "outputId": "3ad589ac-56b6-4e47-d30a-08b61bd54551"
      },
      "source": [
        " import os\n",
        " import matplotlib.pyplot as plt\n",
        " import numpy as np\n",
        " from skimage.io import imread\n",
        " from skimage.transform import resize\n",
        "\n",
        " target = []\n",
        " images = []\n",
        " flat_data = []\n",
        "\n",
        "\n",
        " DATADIR = '/content/image'\n",
        " CATEGORIES = ['cricket bat','Racket','baseball bat']\n",
        "\n",
        " for category in CATEGORIES:\n",
        "   class_num = CATEGORIES.index(category)\n",
        "   path = os.path.join(DATADIR,category)\n",
        "   for img in os.listdir(path):\n",
        "         img_array = imread(os.path.join(path,img))\n",
        "         #print(img_array.shape)\n",
        "         #plt.imshow(img_array)\n",
        "         img_resized = resize(img_array,(150,150,3))\n",
        "         flat_data.append(img_resized.flatten())\n",
        "         images.append(img_resized)\n",
        "         target.append(class_num)\n",
        "\n",
        "flat_data = np.array(flat_data)\n",
        "target = np.array(target)\n",
        "images = np.array(images)\n"
      ],
      "execution_count": 44,
      "outputs": [
        {
          "output_type": "stream",
          "text": [
            "time: 25.1 s (started: 2021-06-16 08:08:01 +00:00)\n"
          ],
          "name": "stdout"
        }
      ]
    },
    {
      "cell_type": "code",
      "metadata": {
        "id": "DsiSsQed_xlk",
        "colab": {
          "base_uri": "https://localhost:8080/",
          "height": 299
        },
        "outputId": "b65c2159-7c92-47f4-b7c8-ef6daf42fc68"
      },
      "source": [
        "unique,count = np.unique(target,return_counts=True)\n",
        "plt.bar(CATEGORIES,count)"
      ],
      "execution_count": 48,
      "outputs": [
        {
          "output_type": "execute_result",
          "data": {
            "text/plain": [
              "<BarContainer object of 3 artists>"
            ]
          },
          "metadata": {
            "tags": []
          },
          "execution_count": 48
        },
        {
          "output_type": "display_data",
          "data": {
            "image/png": "[encoded data removed]",
            "text/plain": [
              "<Figure size 432x288 with 1 Axes>"
            ]
          },
          "metadata": {
            "tags": [],
            "needs_background": "light"
          }
        },
        {
          "output_type": "stream",
          "text": [
            "time: 155 ms (started: 2021-06-16 08:08:57 +00:00)\n"
          ],
          "name": "stdout"
        }
      ]
    },
    {
      "cell_type": "code",
      "metadata": {
        "colab": {
          "base_uri": "https://localhost:8080/"
        },
        "id": "5JOSXtMMBSng",
        "outputId": "bdff3fb4-73cc-4e85-eb89-e53e1a7b97fc"
      },
      "source": [
        "from sklearn.model_selection import train_test_split\n",
        "x_train,x_test,y_train,y_test = train_test_split(flat_data,target,\n",
        "                                                 test_size=0.3,random_state=109)"
      ],
      "execution_count": 49,
      "outputs": [
        {
          "output_type": "stream",
          "text": [
            "time: 20.2 ms (started: 2021-06-16 08:09:01 +00:00)\n"
          ],
          "name": "stdout"
        }
      ]
    },
    {
      "cell_type": "code",
      "metadata": {
        "id": "Q0QeHmeJCIBl",
        "colab": {
          "base_uri": "https://localhost:8080/"
        },
        "outputId": "bca1765a-8241-4528-fc2a-30b1a483cd66"
      },
      "source": [
        "from sklearn.model_selection import GridSearchCV\n",
        "from sklearn import svm\n",
        "param_grid = [\n",
        "              {'C':[1,10,100,1000],'kernel':['linear']},\n",
        "              {'C':[1,10,100,1000],'gamma':[0.001,0.0001],'kernel':['rbf']},\n",
        "]\n",
        "svc = svm.SVC(probability=True)\n",
        "clf = GridSearchCV(svc,param_grid)\n",
        "clf.fit(x_train, y_train)"
      ],
      "execution_count": 21,
      "outputs": [
        {
          "output_type": "execute_result",
          "data": {
            "text/plain": [
              "GridSearchCV(cv=None, error_score=nan,\n",
              "             estimator=SVC(C=1.0, break_ties=False, cache_size=200,\n",
              "                           class_weight=None, coef0=0.0,\n",
              "                           decision_function_shape='ovr', degree=3,\n",
              "                           gamma='scale', kernel='rbf', max_iter=-1,\n",
              "                           probability=True, random_state=None, shrinking=True,\n",
              "                           tol=0.001, verbose=False),\n",
              "             iid='deprecated', n_jobs=None,\n",
              "             param_grid=[{'C': [1, 10, 100, 1000], 'kernel': ['linear']},\n",
              "                         {'C': [1, 10, 100, 1000], 'gamma': [0.001, 0.0001],\n",
              "                          'kernel': ['rbf']}],\n",
              "             pre_dispatch='2*n_jobs', refit=True, return_train_score=False,\n",
              "             scoring=None, verbose=0)"
            ]
          },
          "metadata": {
            "tags": []
          },
          "execution_count": 21
        },
        {
          "output_type": "stream",
          "text": [
            "time: 2min 2s (started: 2021-06-16 07:45:16 +00:00)\n"
          ],
          "name": "stdout"
        }
      ]
    },
    {
      "cell_type": "code",
      "metadata": {
        "colab": {
          "base_uri": "https://localhost:8080/"
        },
        "id": "SMOlncvNS4v6",
        "outputId": "940a6549-a57f-4d6b-bf39-27a0b70cf7bb"
      },
      "source": [
        " from sklearn.metrics import accuracy_score,confusion_matrix"
      ],
      "execution_count": 50,
      "outputs": [
        {
          "output_type": "stream",
          "text": [
            "time: 899 µs (started: 2021-06-16 08:09:37 +00:00)\n"
          ],
          "name": "stdout"
        }
      ]
    },
    {
      "cell_type": "code",
      "metadata": {
        "colab": {
          "base_uri": "https://localhost:8080/"
        },
        "id": "JjUmYTLDTLqu",
        "outputId": "3e52e0b0-ba13-4713-f456-d64e016b935f"
      },
      "source": [
        "accuracy_score(y_pred,y_test)"
      ],
      "execution_count": 51,
      "outputs": [
        {
          "output_type": "execute_result",
          "data": {
            "text/plain": [
              "0.8518518518518519"
            ]
          },
          "metadata": {
            "tags": []
          },
          "execution_count": 51
        },
        {
          "output_type": "stream",
          "text": [
            "time: 5.31 ms (started: 2021-06-16 08:09:43 +00:00)\n"
          ],
          "name": "stdout"
        }
      ]
    },
    {
      "cell_type": "code",
      "metadata": {
        "colab": {
          "base_uri": "https://localhost:8080/"
        },
        "id": "f8OtvtmwTrBV",
        "outputId": "99219d55-ec38-45ee-e5d5-4a539ce61c0e"
      },
      "source": [
        "import pickle\n",
        "pickle.dump(clf,open('img_model.p','wb'))"
      ],
      "execution_count": 27,
      "outputs": [
        {
          "output_type": "stream",
          "text": [
            "time: 42.2 ms (started: 2021-06-16 07:52:33 +00:00)\n"
          ],
          "name": "stdout"
        }
      ]
    },
    {
      "cell_type": "code",
      "metadata": {
        "colab": {
          "base_uri": "https://localhost:8080/"
        },
        "id": "AjVtGoLTmgDo",
        "outputId": "c65d0d27-c5d8-4306-c743-f6c5edc92482"
      },
      "source": [
        "model = pickle.load(open('img_model.p','rb'))"
      ],
      "execution_count": 53,
      "outputs": [
        {
          "output_type": "stream",
          "text": [
            "time: 25.2 ms (started: 2021-06-16 08:10:06 +00:00)\n"
          ],
          "name": "stdout"
        }
      ]
    },
    {
      "cell_type": "code",
      "metadata": {
        "id": "5NKMy5TMmxAG",
        "colab": {
          "base_uri": "https://localhost:8080/",
          "height": 337
        },
        "outputId": "a982aa3d-3377-4b1c-aa6f-12b3b449e309"
      },
      "source": [
        "flat_data = []\n",
        "url = input('Enter Your URL')\n",
        "img = imread(url)\n",
        "img_resized = resize(img,(150,150,3))\n",
        "flat_data.append(img_resized.flatten())\n",
        "flat_data = np.array(flat_data)\n",
        "print(img.shape)\n",
        "plt.imshow(img_resized)\n",
        "y_out = model.predict(flat_data)\n",
        "y_out = CATEGORIES[y_out[0]]\n",
        "print(f'PREDICTED OUTPUT: {y_out}')"
      ],
      "execution_count": 67,
      "outputs": [
        {
          "output_type": "stream",
          "text": [
            "Enter Your URLhttps://4.imimg.com/data4/GU/JQ/MY-34593403/baseball-bat-png-clipart-picture-png-m-2-500x500.png\n",
            "(489, 500, 4)\n",
            "PREDICTED OUTPUT: baseball bat\n"
          ],
          "name": "stdout"
        },
        {
          "output_type": "display_data",
          "data": {
            "image/png": "[encoded data removed]",
            "text/plain": [
              "<Figure size 432x288 with 1 Axes>"
            ]
          },
          "metadata": {
            "tags": [],
            "needs_background": "light"
          }
        },
        {
          "output_type": "stream",
          "text": [
            "time: 5.24 s (started: 2021-06-16 08:59:30 +00:00)\n"
          ],
          "name": "stdout"
        }
      ]
    }
  ]
}